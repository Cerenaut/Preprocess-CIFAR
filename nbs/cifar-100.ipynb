{
 "cells": [
  {
   "cell_type": "code",
   "execution_count": 1,
   "metadata": {},
   "outputs": [],
   "source": [
    "%reload_ext autoreload\n",
    "%autoreload 2\n",
    "%matplotlib inline"
   ]
  },
  {
   "cell_type": "code",
   "execution_count": 2,
   "metadata": {},
   "outputs": [],
   "source": [
    "import os\n",
    "import binascii\n",
    "import numpy as np\n",
    "from PIL import Image\n",
    "import pickle\n",
    "import matplotlib.pyplot as plt"
   ]
  },
  {
   "cell_type": "code",
   "execution_count": 3,
   "metadata": {},
   "outputs": [],
   "source": [
    "PATH = os.getenv('AGI_DATA_HOME') + '/cifar-100/' # Path to dataset"
   ]
  },
  {
   "cell_type": "code",
   "execution_count": 4,
   "metadata": {},
   "outputs": [],
   "source": [
    "def unpickle(file):\n",
    "    with open(file, 'rb') as fo:\n",
    "        dict = pickle.load(fo, encoding='bytes')\n",
    "    return dict"
   ]
  },
  {
   "cell_type": "code",
   "execution_count": 5,
   "metadata": {},
   "outputs": [],
   "source": [
    "# Load the train/test data\n",
    "train_data = unpickle(PATH + 'src/train')\n",
    "test_data = unpickle(PATH + 'src/test')\n",
    "meta_data = unpickle(PATH + 'src/meta')"
   ]
  },
  {
   "cell_type": "code",
   "execution_count": 6,
   "metadata": {},
   "outputs": [],
   "source": [
    "# Split features/labels\n",
    "X_train = train_data[b'data']\n",
    "X_train = X_train.reshape(X_train.shape[0], 3, 32, 32).transpose(0, 2, 3, 1).astype('uint8')\n",
    "y_train = np.asarray(train_data[b'fine_labels'])\n",
    "\n",
    "X_test = test_data[b'data']\n",
    "X_test = X_test.reshape(X_test.shape[0], 3, 32, 32).transpose(0, 2, 3, 1).astype('uint8')\n",
    "y_test = np.asarray(test_data[b'fine_labels'])\n",
    "\n",
    "# Get label names from meta data for CIFAR100\n",
    "fine_label_names = [t.decode('utf8') for t in meta_data[b'fine_label_names']]\n",
    "coarse_label_names = [t.decode('utf8') for t in meta_data[b'coarse_label_names']]"
   ]
  },
  {
   "cell_type": "code",
   "execution_count": 7,
   "metadata": {},
   "outputs": [
    {
     "name": "stdout",
     "output_type": "stream",
     "text": [
      "X_train: (50000, 32, 32, 3)\n",
      "y_train: (50000,)\n",
      "X_test: (10000, 32, 32, 3)\n",
      "y_test: (10000,)\n"
     ]
    }
   ],
   "source": [
    "# Data dimensions\n",
    "print('X_train: {0}'.format(X_train.shape))\n",
    "print('y_train: {0}'.format(y_train.shape))\n",
    "print('X_test: {0}'.format(X_test.shape))\n",
    "print('y_test: {0}'.format(y_test.shape))"
   ]
  },
  {
   "cell_type": "code",
   "execution_count": 8,
   "metadata": {},
   "outputs": [
    {
     "name": "stdout",
     "output_type": "stream",
     "text": [
      "Label: cattle (19)\n"
     ]
    },
    {
     "data": {
      "text/plain": [
       "<module 'matplotlib.pyplot' from '/Users/Abdel/Developer/anaconda/lib/python3.6/site-packages/matplotlib/pyplot.py'>"
      ]
     },
     "execution_count": 8,
     "metadata": {},
     "output_type": "execute_result"
    },
    {
     "data": {
      "image/png": "[encoded data removed]",
      "text/plain": [
       "<matplotlib.figure.Figure at 0x10813c860>"
      ]
     },
     "metadata": {},
     "output_type": "display_data"
    }
   ],
   "source": [
    "# Show sample image\n",
    "image_index = 0\n",
    "image_sample = X_train[image_index, :]\n",
    "image_label = y_train[image_index]\n",
    "\n",
    "plt.imshow(image_sample)\n",
    "print('Label: {0} ({1})'.format(fine_label_names[image_label], image_label))\n",
    "plt"
   ]
  },
  {
   "cell_type": "markdown",
   "metadata": {
    "collapsed": true
   },
   "source": [
    "## Preprocessing"
   ]
  },
  {
   "cell_type": "code",
   "execution_count": 9,
   "metadata": {},
   "outputs": [],
   "source": [
    "# Path to training/test data\n",
    "train_path = PATH + 'training/'\n",
    "test_path = PATH + 'testing/'\n",
    "\n",
    "train_count = int(X_train.shape[0])\n",
    "test_count = int(X_test.shape[0])"
   ]
  },
  {
   "cell_type": "code",
   "execution_count": 10,
   "metadata": {},
   "outputs": [],
   "source": [
    "def preprocess(X, y, num_data, target_path, data_type, num_random=6, display_step=1000):\n",
    "    # Initialise label count\n",
    "    label_count = {}\n",
    "    num_labels = len(np.unique(y))\n",
    "    for i in range(num_labels):\n",
    "        label_count[i] = 0\n",
    "    \n",
    "    for i in range(num_data):\n",
    "        label = y[i]\n",
    "        random = binascii.hexlify(os.urandom(num_random // 2)).decode()\n",
    "\n",
    "        count = 0\n",
    "        if label in label_count:\n",
    "            count = label_count[label]\n",
    "            count += 1\n",
    "        label_count[label] = count\n",
    "\n",
    "        filename = '%s_%s_%i_%i.png' % (data_type, random, label, label_count[label])\n",
    "        image = Image.fromarray(X_train[i])\n",
    "#         image = image.convert('LA') # grayscale\n",
    "        image.save(target_path + filename)\n",
    "\n",
    "        if i % display_step == 0 or i == 1:\n",
    "            print('Step #%i: saved %s' % (i, filename))"
   ]
  },
  {
   "cell_type": "code",
   "execution_count": 11,
   "metadata": {},
   "outputs": [
    {
     "name": "stdout",
     "output_type": "stream",
     "text": [
      "Step #0: saved train_ee61ff_19_1.png\n"
     ]
    }
   ],
   "source": [
    "preprocess(X_train, y_train, 1, train_path, 'train')"
   ]
  },
  {
   "cell_type": "code",
   "execution_count": 12,
   "metadata": {},
   "outputs": [
    {
     "name": "stdout",
     "output_type": "stream",
     "text": [
      "Step #0: saved test_f59390_49_1.png\n"
     ]
    }
   ],
   "source": [
    "preprocess(X_test, y_test, 1, test_path, 'test')"
   ]
  },
  {
   "cell_type": "code",
   "execution_count": null,
   "metadata": {},
   "outputs": [],
   "source": []
  }
 ],
 "metadata": {
  "kernelspec": {
   "display_name": "Python 3",
   "language": "python",
   "name": "python3"
  },
  "language_info": {
   "codemirror_mode": {
    "name": "ipython",
    "version": 3
   },
   "file_extension": ".py",
   "mimetype": "text/x-python",
   "name": "python",
   "nbconvert_exporter": "python",
   "pygments_lexer": "ipython3",
   "version": "3.6.3"
  }
 },
 "nbformat": 4,
 "nbformat_minor": 2
}
